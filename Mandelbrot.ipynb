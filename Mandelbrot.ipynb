{
 "cells": [
  {
   "cell_type": "markdown",
   "metadata": {},
   "source": [
    "# Question 1"
   ]
  },
  {
   "cell_type": "code",
   "execution_count": 1,
   "metadata": {},
   "outputs": [],
   "source": [
    "import scipy as sp\n",
    "import numpy as np\n",
    "import matplotlib.pyplot as plt\n",
    "import matplotlib as mpl"
   ]
  },
  {
   "cell_type": "code",
   "execution_count": 2,
   "metadata": {},
   "outputs": [],
   "source": [
    "def mb(z,c):\n",
    "    f = z**2 + c\n",
    "    return z"
   ]
  },
  {
   "cell_type": "code",
   "execution_count": null,
   "metadata": {},
   "outputs": [],
   "source": [
    "points=100\n",
    "max_iteration = 30\n",
    "colors = plt.cm.magma_r(np.linspace(0, 1, max_iteration+1))\n",
    "fig=plt.figure(figsize=(20,15))\n",
    "\n",
    "z = 0\n",
    "xline = np.linspace(-2.5,1, int(points*1.75))\n",
    "yline = np.linspace(-1,1, points)\n",
    "index=0\n",
    "for i in xline:\n",
    "    for j in yline:\n",
    "        x = 0.0\n",
    "        y = 0.0\n",
    "        iteration = 0\n",
    "        while(x*x + y*y <= 2*2 and iteration < max_iteration):\n",
    "            xtemp = x*x - y*y + i\n",
    "            y = 2*x*y + j\n",
    "            x = xtemp \n",
    "            iteration+=1\n",
    "            \n",
    "        #col = (iteration / max_iteration)        \n",
    "        plt.scatter(i,j, color = colors[iteration], norm=mpl.colors.LogNorm(), s=100)   \n"
   ]
  },
  {
   "cell_type": "markdown",
   "metadata": {},
   "source": [
    "# Question 2"
   ]
  },
  {
   "cell_type": "code",
   "execution_count": null,
   "metadata": {},
   "outputs": [],
   "source": [
    "#First, let's sample a random (x,y) coordinate pair:\n",
    "\n",
    "def make_samples(N, xMin=-2, xMax=1, yMin=-1, yMax=1):\n",
    "    ''' Returns an array of uniformly sampled N coordinates in a given range.\n",
    "    '''\n",
    "    x = np.random.uniform(xMin, xMax, N)\n",
    "    y = np.random.uniform(yMin, yMax, N)\n",
    "    samples = np.array([x, y])\n",
    "    #Transpose, such that we can index on coordinate pairs easily\n",
    "    return samples.T"
   ]
  },
  {
   "cell_type": "code",
   "execution_count": null,
   "metadata": {},
   "outputs": [],
   "source": [
    "def mandelbrot_area(i,j, max_iteration):\n",
    "    ''' Determines if a given coordinate is in the mandelbrot set.\n",
    "    It does this by checking if the corresponding irrational number tends to infinity in a given amount \n",
    "    of iterations.\n",
    "    '''\n",
    "    x = 0.0\n",
    "    y = 0.0\n",
    "    iteration = 0\n",
    "    while(x*x + y*y <= 2*2 and iteration < max_iteration):\n",
    "        xtemp = x*x - y*y + i\n",
    "        y = 2*x*y + j\n",
    "        x = xtemp \n",
    "        iteration+=1\n",
    "    if (iteration == max_iteration):\n",
    "        return True\n",
    "    else:\n",
    "        return False"
   ]
  },
  {
   "cell_type": "code",
   "execution_count": null,
   "metadata": {},
   "outputs": [],
   "source": [
    "def monte_carlo_area(sample_size, max_iterations, area):\n",
    "    ''' Approximates the area of the mandelbrot set.\n",
    "    The function generates samples and for each sample determines if it is in the mandelbrot set.\n",
    "    The ratio of samples in the set can then be used to approximate its area.\n",
    "    '''\n",
    "    samples = make_samples(sample_size)\n",
    "    ratio = []\n",
    "    for i in samples:\n",
    "        x = mandelbrot_area(i[0], i[1], max_iterations)\n",
    "        ratio.append(x)\n",
    "\n",
    "    # Uses a mask to determine the ratio of hits by Boolean indexing.\n",
    "    ones = np.ones(sample_size)\n",
    "    ones = ones[ratio]\n",
    "    total = np.sum(ones)\n",
    "    # Proportion of True to False, multiplied by area of the sampled square.\n",
    "    mandel_area = (total/sample_size) * area\n",
    "    return mandel_area\n"
   ]
  },
  {
   "cell_type": "code",
   "execution_count": null,
   "metadata": {},
   "outputs": [],
   "source": [
    "TOTAL_AREA = 3*2\n",
    "S = 10000\n",
    "MAX_ITERATIONS = 100\n",
    "\n",
    "ar = monte_carlo_area(S, MAX_ITERATIONS, TOTAL_AREA)\n",
    "print(\"So estimated Area of the Mandelbrot Island is: \", ar)\n",
    "\n"
   ]
  },
  {
   "cell_type": "code",
   "execution_count": null,
   "metadata": {},
   "outputs": [],
   "source": [
    "def iteration_convergence(n_tests, iter_range, sample_size):\n",
    "    ''' Calculates the difference in approximated between a given max iteration range and its highest value.\n",
    "    Returns a list of differences for every max iteration. The approximated area is the average over n_tests using\n",
    "    the sample_size as the amount of samples.\n",
    "    '''\n",
    "    approximations = np.array([])\n",
    "    for iteration in iter_range:\n",
    "        run = np.array([monte_carlo_area(sample_size, iteration, TOTAL_AREA) for r in range(n_tests)])\n",
    "        avg = np.mean(run)\n",
    "        approximations = np.append(approximations, avg)\n",
    "    max_approximation = approximations[-1] # Final max_i = j \n",
    "    differences = approximations[:-1] - max_approximation\n",
    "    return differences\n",
    "\n",
    "# Try max_i in the range of 5 - 200 with incremental steps of 5.\n",
    "iteration_range = list(range(5, 205, 5))\n",
    "d = iteration_convergence(20, iteration_range, 1000)"
   ]
  },
  {
   "cell_type": "code",
   "execution_count": null,
   "metadata": {},
   "outputs": [],
   "source": [
    "plt.plot(range(5, 200, 5), d)\n",
    "plt.xlabel(\"N Max iterations in Monte Carlo approach\")\n",
    "plt.ylabel(\"Area of max iteration - area of j\")\n",
    "# plt.plot(45, d[9], 'ro', label='Best max')\n",
    "# plt.legend()\n",
    "plt.show()\n",
    "print('''From the graph we deduce that the increase in accuracy of approximations at a max iteration\n",
    "of more than 50 are generally not worth the processing time.''')"
   ]
  },
  {
   "cell_type": "code",
   "execution_count": null,
   "metadata": {},
   "outputs": [],
   "source": [
    "def sample_convergence(n_tests, max_iteration, sample_range):\n",
    "    ''' Calculates the difference in approximated between a range of sample sizes and its highest value.\n",
    "    Returns a list of differences for sample size. The approximated area is the average over n_tests using\n",
    "    the sample_size as the amount of samples.\n",
    "    '''\n",
    "    approximations = np.array([])\n",
    "    for samples in sample_range:\n",
    "        print(samples)\n",
    "        run = np.array([monte_carlo_area(samples, max_iteration, TOTAL_AREA) for r in range(n_tests)])\n",
    "        avg = np.mean(run)\n",
    "        approximations = np.append(approximations, avg)\n",
    "    max_approximation = approximations[-1] # Final max_s = j \n",
    "    print('Approximations: ', approximations)\n",
    "    differences = approximations[:-1] - max_approximation\n",
    "    return differences\n",
    "\n",
    "sample_range = [10**i for i in range(2, 7)]\n",
    "s = sample_convergence(20, 50, sample_range)"
   ]
  },
  {
   "cell_type": "code",
   "execution_count": null,
   "metadata": {},
   "outputs": [],
   "source": [
    "monte_carlo_area(100000, 50, TOTAL_AREA)"
   ]
  },
  {
   "cell_type": "code",
   "execution_count": null,
   "metadata": {},
   "outputs": [],
   "source": [
    "plt.semilogx([10**i for i in range(2, 6)], s)\n",
    "plt.xlabel(\"N sample size in Monte Carlo approach\")\n",
    "plt.ylabel(\"Area of sample - area of max sample\")\n",
    "# plt.plot(45, d[9], 'ro', label='Best max')\n",
    "# plt.legend()\n",
    "plt.show()\n",
    "print(s)"
   ]
  }
 ],
 "metadata": {
  "kernelspec": {
   "display_name": "Python 3",
   "language": "python",
   "name": "python3"
  },
  "language_info": {
   "codemirror_mode": {
    "name": "ipython",
    "version": 3
   },
   "file_extension": ".py",
   "mimetype": "text/x-python",
   "name": "python",
   "nbconvert_exporter": "python",
   "pygments_lexer": "ipython3",
   "version": "3.8.3"
  }
 },
 "nbformat": 4,
 "nbformat_minor": 4
}
